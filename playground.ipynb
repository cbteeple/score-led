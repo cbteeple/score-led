{
 "cells": [
  {
   "cell_type": "code",
   "execution_count": 1,
   "metadata": {},
   "outputs": [],
   "source": [
    "#Get functions from external sources\n",
    "import copy\n",
    "from collections import deque\n",
    "import ipywidgets as widgets\n",
    "import math\n",
    "import numpy as np\n",
    "import random\n",
    "import threading\n",
    "import time\n",
    "\n",
    "from hex2rgb import hex2rgb, rgb2hex\n",
    "import led_driver_neopixel as led\n",
    "import nfl_scores\n",
    "\n"
   ]
  },
  {
   "cell_type": "code",
   "execution_count": 2,
   "metadata": {},
   "outputs": [],
   "source": [
    "#Define some low-level pin variables\n",
    "pin_config = [\n",
    "    {'pin': 10, 'num_pixels': 9, 'start_idx': 0},\n",
    "    {'pin': 10, 'num_pixels': 15, 'start_idx': 9},\n",
    "    {'pin': 21, 'num_pixels': 9, 'start_idx': 0},\n",
    "    {'pin': 21, 'num_pixels': 15, 'start_idx': 9},\n",
    "]\n",
    "led_handler = led.PixelHandler(pin_config)"
   ]
  },
  {
   "cell_type": "code",
   "execution_count": 3,
   "metadata": {},
   "outputs": [],
   "source": [
    "# Team Logos\n",
    "team1_colors=[\"#ff0000\",\"#858585\"]\n",
    "team2_colors=[\"#ff0000\",\"#ff6a00\"]\n",
    "score_indicator_color=\"#0d6600\"\n",
    "\n",
    "idx_0 = int(pin_config[0]['num_pixels']*(0.6))\n",
    "idx_2 = int(pin_config[2]['num_pixels']*(0.6))\n",
    "\n",
    "color_array_0 = np.zeros((pin_config[0]['num_pixels'],3))\n",
    "color_array_0[:,:] = hex2rgb(team1_colors[1])\n",
    "color_array_0[0:idx_0, :] = hex2rgb(team1_colors[0])\n",
    "color_array_2 = np.zeros((pin_config[2]['num_pixels'],3))\n",
    "color_array_2[:,:] = hex2rgb(team2_colors[1])\n",
    "color_array_2[0:idx_2, :] = hex2rgb(team2_colors[0])\n",
    "\n",
    "for idx in range(len(color_array_0)):\n",
    "    color_array_0_tmp = np.roll(color_array_0, idx, axis=0).tolist()\n",
    "    color_array_2_tmp = np.roll(color_array_2, idx, axis=0).tolist()\n",
    "    led_handler.set_color_array(0, color_array_0_tmp, invert=False)\n",
    "    led_handler.set_color_array(2, color_array_2_tmp, invert=False)\n",
    "    time.sleep(0.05)\n",
    "\n",
    "led_handler.set_color_array(0, color_array_0, invert=False)\n",
    "led_handler.set_color_array(2, color_array_2, invert=False)"
   ]
  },
  {
   "cell_type": "code",
   "execution_count": 4,
   "metadata": {},
   "outputs": [
    {
     "name": "stderr",
     "output_type": "stream",
     "text": [
      "Widget Javascript not detected.  It may not be installed or enabled properly. Reconnecting the current kernel may help.\n"
     ]
    },
    {
     "data": {
      "application/vnd.jupyter.widget-view+json": {
       "model_id": "49cce28977a24d37be60c7920f8b85a3"
      }
     },
     "metadata": {},
     "output_type": "display_data"
    },
    {
     "name": "stderr",
     "output_type": "stream",
     "text": [
      "Widget Javascript not detected.  It may not be installed or enabled properly. Reconnecting the current kernel may help.\n"
     ]
    },
    {
     "data": {
      "application/vnd.jupyter.widget-view+json": {
       "model_id": "34b5224ac4c64cbe96294f3a508d7867"
      }
     },
     "metadata": {},
     "output_type": "display_data"
    }
   ],
   "source": [
    "color = widgets.ColorPicker(\n",
    "    concise=False,\n",
    "    description='Pick a color',\n",
    "    value='#FFFFFF',\n",
    "    disabled=False,\n",
    "    continuous_update=True,\n",
    ")\n",
    "output = widgets.Output()\n",
    "display(color, output)\n",
    "\n",
    "color_array_0 = np.zeros((pin_config[0]['num_pixels'],3))\n",
    "color_array_0[:,:] = hex2rgb(\"#FFFFFF\")\n",
    "\n",
    "def apply_color(new_color, animate=\"cascade\"):\n",
    "    if animate=='cascade':\n",
    "        for idx in range(len(color_array_0)):\n",
    "            color_array_0[idx, :] = hex2rgb(new_color)\n",
    "            led_handler.set_color_array(0, color_array_0.tolist(), invert=False)\n",
    "            led_handler.set_color_array(2, color_array_0.tolist(), invert=False)\n",
    "            time.sleep(0.02)\n",
    "    elif animate=='fade':\n",
    "        old_color_array = np.array(color_array_0)\n",
    "        new_color_array = np.array(color_array_0)\n",
    "        new_color_array[:,:] = hex2rgb(new_color)\n",
    "        num_steps = 5\n",
    "        inc = (new_color_array - old_color_array) / num_steps\n",
    "        for idx in range(num_steps-1):\n",
    "            curr_color_array = old_color_array + (idx+1)*(inc)\n",
    "            led_handler.set_color_array(0, curr_color_array.tolist(), invert=False)\n",
    "            led_handler.set_color_array(2, curr_color_array.tolist(), invert=False)\n",
    "            time.sleep(0.01)\n",
    "    \n",
    "    if not animate=='cascade':\n",
    "        color_array_0[:,:] = hex2rgb(new_color)\n",
    "        led_handler.set_color_array(0, color_array_0.tolist(), invert=False)\n",
    "        led_handler.set_color_array(2, color_array_0.tolist(), invert=False)\n",
    "        \n",
    "apply_color(\"#FFFFFF\", animate='fade')\n",
    "\n",
    "def on_value_change(change):\n",
    "    with output:\n",
    "        print(change['new'])\n",
    "    \n",
    "    apply_color(change['new'], animate=None)\n",
    "    \n",
    "\n",
    "color.observe(on_value_change, names='value')"
   ]
  },
  {
   "cell_type": "code",
   "execution_count": 5,
   "metadata": {
    "scrolled": true
   },
   "outputs": [
    {
     "name": "stderr",
     "output_type": "stream",
     "text": [
      "Widget Javascript not detected.  It may not be installed or enabled properly. Reconnecting the current kernel may help.\n"
     ]
    },
    {
     "data": {
      "application/vnd.jupyter.widget-view+json": {
       "model_id": "51e99b17e5a74f0a9325b45f7568f908"
      }
     },
     "metadata": {},
     "output_type": "display_data"
    },
    {
     "name": "stderr",
     "output_type": "stream",
     "text": [
      "Widget Javascript not detected.  It may not be installed or enabled properly. Reconnecting the current kernel may help.\n"
     ]
    },
    {
     "data": {
      "application/vnd.jupyter.widget-view+json": {
       "model_id": "337fee6a576c4390a9a82ed72d564530"
      }
     },
     "metadata": {},
     "output_type": "display_data"
    },
    {
     "name": "stderr",
     "output_type": "stream",
     "text": [
      "Widget Javascript not detected.  It may not be installed or enabled properly. Reconnecting the current kernel may help.\n"
     ]
    },
    {
     "data": {
      "application/vnd.jupyter.widget-view+json": {
       "model_id": "daa0f423a7d84614a32a2c4e59a9cea4"
      }
     },
     "metadata": {},
     "output_type": "display_data"
    },
    {
     "name": "stderr",
     "output_type": "stream",
     "text": [
      "Widget Javascript not detected.  It may not be installed or enabled properly. Reconnecting the current kernel may help.\n"
     ]
    },
    {
     "data": {
      "application/vnd.jupyter.widget-view+json": {
       "model_id": "5adeb8676ef348f3aa0664ea964c9320"
      }
     },
     "metadata": {},
     "output_type": "display_data"
    },
    {
     "name": "stderr",
     "output_type": "stream",
     "text": [
      "Widget Javascript not detected.  It may not be installed or enabled properly. Reconnecting the current kernel may help.\n"
     ]
    },
    {
     "data": {
      "application/vnd.jupyter.widget-view+json": {
       "model_id": "47f8f20b5836453f9664e5bd729e9c8c"
      }
     },
     "metadata": {},
     "output_type": "display_data"
    }
   ],
   "source": [
    "main_color = [255,255,255]\n",
    "main_brightness = 100\n",
    "\n",
    "def on_slider(red=None, green=None, blue=None, brightness=None):\n",
    "    global main_brightness\n",
    "    global main_color\n",
    "    if red is not None:\n",
    "        main_color[0] = red['new']\n",
    "    elif green is not None:\n",
    "        main_color[1] = green['new']\n",
    "    elif blue is not None:\n",
    "        main_color[2] = blue['new']\n",
    "        \n",
    "    elif brightness is not None:\n",
    "        main_brightness = brightness['new']\n",
    "        \n",
    "#     print(main_color)\n",
    "    \n",
    "    new_bright = np.array(main_color)*main_brightness/100.0\n",
    "    hex = rgb2hex(tuple([int(x) for x in new_bright]))\n",
    "    \n",
    "    color_picker.value=\"#{}\".format(hex)\n",
    "        \n",
    "    apply_color(hex, animate='fade')\n",
    "    \n",
    "def on_color_picker(change):   \n",
    "    main_color = list(hex2rgb(change['new']))\n",
    "\n",
    "red = widgets.IntSlider(\n",
    "    description='Red',\n",
    "    continuous_update=True,\n",
    "    min=0, max=255, step=1,\n",
    "    value=255,\n",
    ")\n",
    "\n",
    "green = widgets.IntSlider(\n",
    "    description='Green',\n",
    "    continuous_update=True,\n",
    "    min=0, max=255, step=1,\n",
    "    value=255,\n",
    ")\n",
    "\n",
    "blue = widgets.IntSlider(\n",
    "    description='Blue',\n",
    "    continuous_update=True,\n",
    "    min=0, max=255, step=1,\n",
    "    value=255,\n",
    ")\n",
    "\n",
    "brightness = widgets.IntSlider(\n",
    "    description='Brightness',\n",
    "    continuous_update=True,\n",
    "    min=0, max=100, step=1,\n",
    "    value=100,\n",
    ")\n",
    "\n",
    "\n",
    "color_picker = widgets.ColorPicker(\n",
    "    concise=False,\n",
    "    description='Pick a color',\n",
    "    value='#FFFFFF',\n",
    "    disabled=False,\n",
    "    continuous_update=True,\n",
    ")\n",
    "\n",
    "#l = widgets.jslink((red, 'value'), (green, 'value'))\n",
    "\n",
    "display(color_picker, red, green, blue, brightness)\n",
    "\n",
    "red.observe(lambda x: on_slider(red=x), names='value')\n",
    "green.observe(lambda x: on_slider(green=x), names='value')\n",
    "blue.observe(lambda x: on_slider(blue=x), names='value')\n",
    "brightness.observe(lambda x: on_slider(brightness=x), names='value')\n",
    "color_picker.observe(on_color_picker, names='value')"
   ]
  },
  {
   "cell_type": "code",
   "execution_count": 50,
   "metadata": {},
   "outputs": [],
   "source": [
    "import astral.geocoder\n",
    "import astral.location\n",
    "import astral.sun\n",
    "def get_auto_brightness(date, max_brightness=1.0, min_brightness=0.0):\n",
    "    # Get the sunrise/sunset data calculator:\n",
    "    city = astral.geocoder.lookup(\"Boston\", astral.geocoder.database())\n",
    "    boston = astral.location.Location(city)\n",
    "    sun_events = astral.sun.sun(city.observer, date=date, tzinfo=boston.timezone)\n",
    "\n",
    "    # Compute the dawn and dusk ratios\n",
    "    dawn_ratio = (sun_events['dawn'].hour*60 + sun_events['dawn'].minute)/(60*24)\n",
    "    dusk_ratio = (sun_events['dusk'].hour*60 + sun_events['dusk'].minute)/(60*24)\n",
    "    \n",
    "    now_ratio = ((date.hour*60.0)+date.minute)/(60*24)\n",
    "    \n",
    "    \n",
    "    if (now_ratio <= dawn_ratio) or (now_ratio >= dusk_ratio):\n",
    "        brightness =  min_brightness\n",
    "    else:\n",
    "        middle = (dawn_ratio + dusk_ratio)/2\n",
    "        span = dusk_ratio - dawn_ratio\n",
    "        if now_ratio < middle:\n",
    "            brightness = min_brightness + (max_brightness - min_brightness)*(now_ratio-dawn_ratio)/(span*0.5)\n",
    "        else:\n",
    "            brightness = min_brightness + (max_brightness - min_brightness)*(dusk_ratio-now_ratio)/(span*0.5)\n",
    "            \n",
    "    return brightness"
   ]
  },
  {
   "cell_type": "code",
   "execution_count": 57,
   "metadata": {},
   "outputs": [],
   "source": [
    "#Clock\n",
    "\n",
    "#Get functions from external sources\n",
    "import copy\n",
    "import datetime\n",
    "import numpy as np\n",
    "import time\n",
    "\n",
    "from hex2rgb import hex2rgb, rgb2hex\n",
    "import led_driver_neopixel as led    \n",
    "        \n",
    "\n",
    "#Define some low-level pin variables\n",
    "pin_config = [\n",
    "    {'pin': 10, 'num_pixels': 9, 'start_idx': 0},\n",
    "    {'pin': 10, 'num_pixels': 15, 'start_idx': 9},\n",
    "    {'pin': 21, 'num_pixels': 9, 'start_idx': 0},\n",
    "    {'pin': 21, 'num_pixels': 15, 'start_idx': 9},\n",
    "]\n",
    "led_handler = led.PixelHandler(pin_config)\n",
    "\n",
    "duration = 20.0 # [sec]\n",
    "time_start = datetime.datetime.now()\n",
    "now = datetime.datetime.now()\n",
    "\n",
    "color_check_time = 60.0 #[sec]\n",
    "last_color_check = time_start-datetime.timedelta(seconds=color_check_time+1)\n",
    "\n",
    "week_colors =[\n",
    "    [255, 150, 0], # Monday\n",
    "    [255, 60, 0], # Tuesday\n",
    "    [255, 10, 0], # Wednesday\n",
    "    [130, 0, 255], # Thursday\n",
    "    [0, 50, 255], # Friday\n",
    "    [0, 255, 40], # Saturday\n",
    "    [100, 255, 0], # Sunday\n",
    "]\n",
    "\n",
    "main_color = [255,255,255]\n",
    "main_brightness = 100\n",
    "\n",
    "indicator_hr = led.Indicator(\n",
    "    pin_config[0]['num_pixels'],\n",
    ")\n",
    "\n",
    "indicator_min = led.Indicator(\n",
    "    pin_config[1]['num_pixels'],\n",
    "    2,\n",
    "    pin_config[1]['num_pixels']-2,\n",
    ")\n",
    "\n",
    "indicator_sec = led.Indicator(\n",
    "    pin_config[3]['num_pixels'],\n",
    "    2,\n",
    "    pin_config[3]['num_pixels']-2,\n",
    ")\n",
    "\n",
    "indicator_hr.buffer_color = main_color\n",
    "indicator_min.buffer_color = [0,0,0]\n",
    "indicator_sec.buffer_color = [0,0,0]\n",
    "\n",
    "while (now - time_start).total_seconds() <duration:\n",
    "    now = datetime.datetime.now()\n",
    "    \n",
    "    # Update the color if the weekday changes\n",
    "    if (now - last_color_check).total_seconds() >= color_check_time:\n",
    "        weekday = int(now.weekday())\n",
    "        main_color = week_colors[weekday]\n",
    "        \n",
    "        main_brightness = get_auto_brightness(now, 0.80, 0.05)*100\n",
    "        \n",
    "        last_color_check = copy.deepcopy(now)\n",
    "    \n",
    "    indicator_hr.brightness = main_brightness\n",
    "    indicator_min.brightness = main_brightness\n",
    "    indicator_sec.brightness = main_brightness\n",
    "    \n",
    "    color_array_hr = indicator_hr.compute_fractional_colors(\n",
    "        main_color,\n",
    "        [0,0,0],\n",
    "        (now.hour+1)/24.0,\n",
    "    )\n",
    "    \n",
    "    color_array_min = indicator_min.compute_fractional_colors(\n",
    "        main_color,\n",
    "        [0,0,0],\n",
    "        (now.minute+1)/60.0,\n",
    "    )\n",
    "    \n",
    "    color_array_sec = indicator_sec.compute_fractional_colors(\n",
    "        main_color,\n",
    "        [0,0,0],\n",
    "        (((now.second)*1e6)+now.microsecond)/60e6,\n",
    "    )\n",
    "    \n",
    "    led_handler.set_color_array(0, color_array_hr, invert=False)\n",
    "    led_handler.set_color_array(1, color_array_min, invert=True)\n",
    "    led_handler.set_color_array(3, color_array_sec, invert=True)\n",
    "    \n",
    "    time.sleep(0.1)\n",
    "\n"
   ]
  },
  {
   "cell_type": "code",
   "execution_count": 7,
   "metadata": {},
   "outputs": [
    {
     "data": {
      "text/plain": [
       "0.8961090166666666"
      ]
     },
     "execution_count": 7,
     "metadata": {},
     "output_type": "execute_result"
    }
   ],
   "source": [
    "now.second\n",
    "(((now.second)*1e6)+now.microsecond)/60e6"
   ]
  },
  {
   "cell_type": "code",
   "execution_count": 53,
   "metadata": {},
   "outputs": [
    {
     "data": {
      "text/plain": [
       "9.375000000000018"
      ]
     },
     "execution_count": 53,
     "metadata": {},
     "output_type": "execute_result"
    }
   ],
   "source": [
    "main_brightness"
   ]
  },
  {
   "cell_type": "code",
   "execution_count": 31,
   "metadata": {},
   "outputs": [
    {
     "data": {
      "text/plain": [
       "(0.24791666666666667, 0.7479166666666667)"
      ]
     },
     "execution_count": 31,
     "metadata": {},
     "output_type": "execute_result"
    }
   ],
   "source": [
    "import astral.geocoder\n",
    "import astral.location\n",
    "import astral.sun\n",
    "import datetime\n",
    "\n",
    "def get_dawn_dusk_ratios(date):\n",
    "    # Get the Sunrise/Sunset data calculator:\n",
    "    city = astral.geocoder.lookup(\"Boston\", astral.geocoder.database())\n",
    "    boston = astral.location.Location(city)\n",
    "    sun_events = astral.sun.sun(city.observer, date=date, tzinfo=boston.timezone)\n",
    "\n",
    "    dawn_ratio = (sun_events['dawn'].hour*60 + sun_events['dawn'].minute)/(60*24)\n",
    "\n",
    "    dusk_ratio = (sun_events['dusk'].hour*60 + sun_events['dusk'].minute)/(60*24)\n",
    "\n",
    "    return (dawn_ratio, dusk_ratio)\n",
    "\n",
    "get_dawn_dusk_ratios(datetime.datetime.now())"
   ]
  },
  {
   "cell_type": "code",
   "execution_count": 17,
   "metadata": {},
   "outputs": [
    {
     "data": {
      "text/plain": [
       "{'dawn': datetime.datetime(2024, 2, 25, 10, 57, 58, 920865, tzinfo=zoneinfo.ZoneInfo(key='Europe/London')),\n",
       " 'sunrise': datetime.datetime(2024, 2, 25, 11, 26, 50, 530381, tzinfo=zoneinfo.ZoneInfo(key='Europe/London')),\n",
       " 'noon': datetime.datetime(2024, 2, 25, 16, 57, 16, tzinfo=zoneinfo.ZoneInfo(key='Europe/London')),\n",
       " 'sunset': datetime.datetime(2024, 2, 25, 22, 28, 21, 853093, tzinfo=zoneinfo.ZoneInfo(key='Europe/London')),\n",
       " 'dusk': datetime.datetime(2024, 2, 25, 22, 57, 15, 590142, tzinfo=zoneinfo.ZoneInfo(key='Europe/London'))}"
      ]
     },
     "execution_count": 17,
     "metadata": {},
     "output_type": "execute_result"
    }
   ],
   "source": [
    "s"
   ]
  },
  {
   "cell_type": "code",
   "execution_count": 55,
   "metadata": {},
   "outputs": [
    {
     "name": "stdout",
     "output_type": "stream",
     "text": [
      "0 0.0\n",
      "1 0.0\n",
      "2 0.0\n",
      "3 0.0\n",
      "4 0.0\n",
      "5 0.0\n",
      "6 0.008333333333333304\n",
      "7 0.17500000000000004\n",
      "8 0.34166666666666656\n",
      "9 0.5083333333333333\n",
      "10 0.675\n",
      "11 0.8416666666666666\n",
      "12 0.9916666666666667\n",
      "13 0.8250000000000002\n",
      "14 0.6583333333333332\n",
      "15 0.4916666666666667\n",
      "16 0.3250000000000002\n",
      "17 0.15833333333333321\n",
      "18 0.0\n",
      "19 0.0\n",
      "20 0.0\n",
      "21 0.0\n",
      "22 0.0\n",
      "23 0.0\n"
     ]
    }
   ],
   "source": [
    "bright = []\n",
    "for hr in range(24):\n",
    "    now = datetime.datetime(2024, 2, 25, hr, 0, 0)\n",
    "    bright.append(get_auto_brightness(now))\n",
    "\n",
    "for idx, val in enumerate(bright):\n",
    "    print(idx, val)"
   ]
  },
  {
   "cell_type": "code",
   "execution_count": null,
   "metadata": {},
   "outputs": [],
   "source": []
  }
 ],
 "metadata": {
  "kernelspec": {
   "display_name": "Python 3",
   "language": "python",
   "name": "python3"
  },
  "language_info": {
   "codemirror_mode": {
    "name": "ipython",
    "version": 3
   },
   "file_extension": ".py",
   "mimetype": "text/x-python",
   "name": "python",
   "nbconvert_exporter": "python",
   "pygments_lexer": "ipython3",
   "version": "3.9.2"
  }
 },
 "nbformat": 4,
 "nbformat_minor": 4
}
